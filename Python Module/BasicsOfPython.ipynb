{
  "nbformat": 4,
  "nbformat_minor": 0,
  "metadata": {
    "colab": {
      "provenance": [],
      "collapsed_sections": [
        "Z9S4sZVwwHzd"
      ]
    },
    "kernelspec": {
      "name": "python3",
      "display_name": "Python 3"
    },
    "language_info": {
      "name": "python"
    }
  },
  "cells": [
    {
      "cell_type": "markdown",
      "source": [
        "#Python Basics"
      ],
      "metadata": {
        "id": "GNZI1FfWv24W"
      }
    },
    {
      "cell_type": "markdown",
      "source": [
        "##Q&A"
      ],
      "metadata": {
        "id": "Z9S4sZVwwHzd"
      }
    },
    {
      "cell_type": "markdown",
      "source": [
        "1.What is Python, and why is it popular?\n",
        " - Python is a high-level, interpreted programming language known for its simplicity and readability. It is popular due to its extensive libraries, versatility, and suitability for web development, data science, machine learning, and automation.\n",
        "\n",
        "\n",
        "\n",
        "2.What is an interpreter in Python?\n",
        " - An interpreter executes Python code line-by-line, translating it into machine-readable instructions, enabling dynamic execution and debugging during runtime.\n",
        "\n",
        "\n",
        "3.What are pre-defined keywords in Python?\n",
        " - Pre-defined keywords are reserved words in Python, like if, else, for, and def, which have specific meanings and cannot be redefined or used as identifiers.\n",
        "\n",
        "4.Can keywords be used as variable names?\n",
        " - No, keywords cannot be used as variable names because they are reserved for specific functions and commands within the Python language.\n",
        "\n",
        "5.What is mutability in Python?\n",
        " - Mutability refers to whether an object can be modified after creation. Mutable objects, like lists, can be changed, while immutable objects, like tuples, cannot.\n",
        "\n",
        "6.Why are lists mutable, but tuples are immutable?\n",
        " - Lists are mutable to support dynamic data storage and updates, making them versatile. Tuples are immutable to ensure data integrity and faster performance in fixed data scenarios.\n",
        "\n",
        "7.What is the difference between “==” and “is” operators in Python?\n",
        " - == checks for value equality, while is checks for object identity, i.e., whether two variables reference the same memory location.\n",
        "\n",
        "8.What are logical operators in Python?\n",
        " - Logical operators—and, or, and not—are used to combine conditional statements, enabling complex logical expressions.\n",
        "\n",
        "9.What is type casting in Python?\n",
        " - Type casting converts a variable from one data type to another, such as int() to convert a string to an integer.\n",
        "\n",
        "10.What is the difference between implicit and explicit type casting?\n",
        "- Implicit type casting is done automatically by Python, e.g., converting integers to floats. Explicit type casting requires manual conversion using functions like int() and float()\n",
        "\n",
        "11.What is the purpose of conditional statements in Python?\n",
        "- Conditional statements control the flow of execution based on conditions, enabling decision-making in programs using if, elif, and else\n",
        "\n",
        "12.How does the elif statement work?\n",
        "- The elif statement checks multiple conditions sequentially, executing the block associated with the first True condition and skipping the rest.\n",
        "\n",
        "13.What is the difference between for and while loops?\n",
        "- for loops iterate over a sequence or range, whereas while loops continue execution as long as a specified condition is True.\n",
        "\n",
        "14.Describe a scenario where a while loop is more suitable than a for loop.\n",
        "- A while loop is ideal when the number of iterations is unknown beforehand, such as continuously reading input until the user enters a specific value e.g., \"exit\".\n"
      ],
      "metadata": {
        "id": "Yjy5mZklwOzI"
      }
    },
    {
      "cell_type": "markdown",
      "source": [
        "##Coding Questions"
      ],
      "metadata": {
        "id": "qSXDfYBv2H9u"
      }
    },
    {
      "cell_type": "markdown",
      "source": [
        " 1. Write a Python program to print \"Hello, World\""
      ],
      "metadata": {
        "id": "CzDsWHoc2a2F"
      }
    },
    {
      "cell_type": "code",
      "source": [
        "print(\"Hello, World\")"
      ],
      "metadata": {
        "colab": {
          "base_uri": "https://localhost:8080/"
        },
        "id": "DWD9NqQS21LZ",
        "outputId": "ec2eb693-7eb5-4ca3-d84d-a9fc050ee8e4"
      },
      "execution_count": 3,
      "outputs": [
        {
          "output_type": "stream",
          "name": "stdout",
          "text": [
            "Hello, World\n"
          ]
        }
      ]
    },
    {
      "cell_type": "markdown",
      "source": [
        "2. Write a Python program that displays your name and age"
      ],
      "metadata": {
        "id": "3GGLL3BG27NN"
      }
    },
    {
      "cell_type": "code",
      "source": [
        "name = \"Aditya Deshmukh\"\n",
        "age = \"20\"\n",
        "\n",
        "print(\"My name is \",name,\" and my age is \",age)"
      ],
      "metadata": {
        "colab": {
          "base_uri": "https://localhost:8080/"
        },
        "id": "8h7a02IF3QZz",
        "outputId": "07239595-7805-4f59-9b38-e1dc474e4198"
      },
      "execution_count": 10,
      "outputs": [
        {
          "output_type": "stream",
          "name": "stdout",
          "text": [
            "My name is  Aditya Deshmukh  and my age is  20\n"
          ]
        }
      ]
    },
    {
      "cell_type": "markdown",
      "source": [
        " 3.Write code to print all the pre-defined keywords in Python using the keyword library"
      ],
      "metadata": {
        "id": "26Ik8KnQ31cr"
      }
    },
    {
      "cell_type": "code",
      "source": [
        "import keyword\n",
        "\n",
        "print(keyword.kwlist)"
      ],
      "metadata": {
        "colab": {
          "base_uri": "https://localhost:8080/"
        },
        "id": "Wyfdqx7s3wwn",
        "outputId": "e9ade366-41ca-4383-c3cc-50456e398f5b"
      },
      "execution_count": 6,
      "outputs": [
        {
          "output_type": "stream",
          "name": "stdout",
          "text": [
            "['False', 'None', 'True', 'and', 'as', 'assert', 'async', 'await', 'break', 'class', 'continue', 'def', 'del', 'elif', 'else', 'except', 'finally', 'for', 'from', 'global', 'if', 'import', 'in', 'is', 'lambda', 'nonlocal', 'not', 'or', 'pass', 'raise', 'return', 'try', 'while', 'with', 'yield']\n",
            "['False', 'None', 'True', 'and', 'as', 'assert', 'async', 'await', 'break', 'class', 'continue', 'def', 'del', 'elif', 'else', 'except', 'finally', 'for', 'from', 'global', 'if', 'import', 'in', 'is', 'lambda', 'nonlocal', 'not', 'or', 'pass', 'raise', 'return', 'try', 'while', 'with', 'yield']\n"
          ]
        }
      ]
    },
    {
      "cell_type": "markdown",
      "source": [
        " 4.Write a program that checks if a given word is a Python keyword"
      ],
      "metadata": {
        "id": "mAgDcFiJ40C6"
      }
    },
    {
      "cell_type": "code",
      "source": [
        "import keyword\n",
        "\n",
        "word = input(\"Enter a word: \")\n",
        "\n",
        "if keyword.iskeyword(word):\n",
        "    print(f\"{word} is a Python keyword.\")\n",
        "else:\n",
        "    print(f\"{word} is not a Python keyword.\")"
      ],
      "metadata": {
        "colab": {
          "base_uri": "https://localhost:8080/"
        },
        "id": "NFrfw1QD5NYQ",
        "outputId": "a45f4d5a-59b6-4fed-9de4-d96209f193a1"
      },
      "execution_count": 8,
      "outputs": [
        {
          "output_type": "stream",
          "name": "stdout",
          "text": [
            "Enter a word: for\n",
            "for is a Python keyword.\n"
          ]
        }
      ]
    },
    {
      "cell_type": "markdown",
      "source": [
        "5.Create a list and tuple in Python, and demonstrate how attempting to change an element works differently\n",
        "for each"
      ],
      "metadata": {
        "id": "lbZyOKK45zqN"
      }
    },
    {
      "cell_type": "code",
      "source": [
        "my_list = [10, 20, 30]\n",
        "print(\"Org list:\", my_list)\n",
        "\n",
        "my_list[1] = 25\n",
        "print(\"Mod list:\", my_list)\n",
        "\n",
        "my_tuple = (10, 20, 30)\n",
        "print(\"Org tuple:\",my_tuple)\n",
        "\n",
        "my_tuple[1] = 25  #tuple is immutable hence no modifiaction can be done\n",
        "print(\"Mod tuple:\",my_tuple)\n"
      ],
      "metadata": {
        "colab": {
          "base_uri": "https://localhost:8080/",
          "height": 255
        },
        "id": "klRgJZ_055fV",
        "outputId": "93dbcaf4-1746-497e-b01d-7c0d7e41ae04"
      },
      "execution_count": 11,
      "outputs": [
        {
          "output_type": "stream",
          "name": "stdout",
          "text": [
            "Org list: [10, 20, 30]\n",
            "Mod list: [10, 25, 30]\n",
            "Org tuple: (10, 20, 30)\n"
          ]
        },
        {
          "output_type": "error",
          "ename": "TypeError",
          "evalue": "'tuple' object does not support item assignment",
          "traceback": [
            "\u001b[0;31m---------------------------------------------------------------------------\u001b[0m",
            "\u001b[0;31mTypeError\u001b[0m                                 Traceback (most recent call last)",
            "\u001b[0;32m<ipython-input-11-851477145db0>\u001b[0m in \u001b[0;36m<cell line: 10>\u001b[0;34m()\u001b[0m\n\u001b[1;32m      8\u001b[0m \u001b[0mprint\u001b[0m\u001b[0;34m(\u001b[0m\u001b[0;34m\"Org tuple:\"\u001b[0m\u001b[0;34m,\u001b[0m\u001b[0mmy_tuple\u001b[0m\u001b[0;34m)\u001b[0m\u001b[0;34m\u001b[0m\u001b[0;34m\u001b[0m\u001b[0m\n\u001b[1;32m      9\u001b[0m \u001b[0;34m\u001b[0m\u001b[0m\n\u001b[0;32m---> 10\u001b[0;31m \u001b[0mmy_tuple\u001b[0m\u001b[0;34m[\u001b[0m\u001b[0;36m1\u001b[0m\u001b[0;34m]\u001b[0m \u001b[0;34m=\u001b[0m \u001b[0;36m25\u001b[0m\u001b[0;34m\u001b[0m\u001b[0;34m\u001b[0m\u001b[0m\n\u001b[0m\u001b[1;32m     11\u001b[0m \u001b[0mprint\u001b[0m\u001b[0;34m(\u001b[0m\u001b[0;34m\"Mod tuple:\"\u001b[0m\u001b[0;34m,\u001b[0m\u001b[0mmy_tuple\u001b[0m\u001b[0;34m)\u001b[0m\u001b[0;34m\u001b[0m\u001b[0;34m\u001b[0m\u001b[0m\n",
            "\u001b[0;31mTypeError\u001b[0m: 'tuple' object does not support item assignment"
          ]
        }
      ]
    },
    {
      "cell_type": "markdown",
      "source": [
        "6.Write a function to demonstrate the behavior of mutable and immutable arguments\n",
        "- Sames as for question no. 5"
      ],
      "metadata": {
        "id": "zA_sViIM7QBt"
      }
    },
    {
      "cell_type": "code",
      "source": [
        "my_list = [10, 20, 30]\n",
        "print(\"Org list:\", my_list)\n",
        "\n",
        "my_list[1] = 25 #list is mutable\n",
        "print(\"Mod list:\", my_list)\n",
        "\n",
        "my_tuple = (10, 20, 30)\n",
        "print(\"Org tuple:\",my_tuple)\n",
        "\n",
        "my_tuple[1] = 25  #tuple is immutable hence no modifiaction can be done\n",
        "print(\"Mod tuple:\",my_tuple)"
      ],
      "metadata": {
        "id": "0_2WdpFV7aE8"
      },
      "execution_count": null,
      "outputs": []
    },
    {
      "cell_type": "markdown",
      "source": [
        "7.Write a function to demonstrate the behavior of mutable and immutable arguments\n"
      ],
      "metadata": {
        "id": "3eI46rhQ8t0R"
      }
    },
    {
      "cell_type": "code",
      "source": [
        "my_list = [10, 20, 30]\n",
        "print(\"Org list:\", my_list)\n",
        "\n",
        "my_list[1] = 25 #list is mutable\n",
        "print(\"Mod list:\", my_list)\n",
        "\n",
        "my_tuple = (10, 20, 30)\n",
        "print(\"Org tuple:\",my_tuple)\n",
        "\n",
        "my_tuple[1] = 25  #tuple is immutable hence no modifiaction can be done\n",
        "print(\"Mod tuple:\",my_tuple)"
      ],
      "metadata": {
        "collapsed": true,
        "colab": {
          "base_uri": "https://localhost:8080/",
          "height": 255
        },
        "id": "ZsFu3Nlf87Xm",
        "outputId": "0edbcc5c-740f-4253-9961-4c4a7914f29c"
      },
      "execution_count": 15,
      "outputs": [
        {
          "output_type": "stream",
          "name": "stdout",
          "text": [
            "Org list: [10, 20, 30]\n",
            "Mod list: [10, 25, 30]\n",
            "Org tuple: (10, 20, 30)\n"
          ]
        },
        {
          "output_type": "error",
          "ename": "TypeError",
          "evalue": "'tuple' object does not support item assignment",
          "traceback": [
            "\u001b[0;31m---------------------------------------------------------------------------\u001b[0m",
            "\u001b[0;31mTypeError\u001b[0m                                 Traceback (most recent call last)",
            "\u001b[0;32m<ipython-input-15-3464a20e255f>\u001b[0m in \u001b[0;36m<cell line: 10>\u001b[0;34m()\u001b[0m\n\u001b[1;32m      8\u001b[0m \u001b[0mprint\u001b[0m\u001b[0;34m(\u001b[0m\u001b[0;34m\"Org tuple:\"\u001b[0m\u001b[0;34m,\u001b[0m\u001b[0mmy_tuple\u001b[0m\u001b[0;34m)\u001b[0m\u001b[0;34m\u001b[0m\u001b[0;34m\u001b[0m\u001b[0m\n\u001b[1;32m      9\u001b[0m \u001b[0;34m\u001b[0m\u001b[0m\n\u001b[0;32m---> 10\u001b[0;31m \u001b[0mmy_tuple\u001b[0m\u001b[0;34m[\u001b[0m\u001b[0;36m1\u001b[0m\u001b[0;34m]\u001b[0m \u001b[0;34m=\u001b[0m \u001b[0;36m25\u001b[0m  \u001b[0;31m#tuple is immutable hence no modifiaction can be done\u001b[0m\u001b[0;34m\u001b[0m\u001b[0;34m\u001b[0m\u001b[0m\n\u001b[0m\u001b[1;32m     11\u001b[0m \u001b[0mprint\u001b[0m\u001b[0;34m(\u001b[0m\u001b[0;34m\"Mod tuple:\"\u001b[0m\u001b[0;34m,\u001b[0m\u001b[0mmy_tuple\u001b[0m\u001b[0;34m)\u001b[0m\u001b[0;34m\u001b[0m\u001b[0;34m\u001b[0m\u001b[0m\n",
            "\u001b[0;31mTypeError\u001b[0m: 'tuple' object does not support item assignment"
          ]
        }
      ]
    },
    {
      "cell_type": "markdown",
      "source": [
        "8. Write a program to demonstrate the use of logical operators"
      ],
      "metadata": {
        "id": "bYoz1Dn8-wUv"
      }
    },
    {
      "cell_type": "code",
      "source": [
        "x = 10\n",
        "y = 5\n",
        "z = 0\n",
        "\n",
        "print(\"x > y and y > z:\", x > y and y > z)  # And\n",
        "\n",
        "print(\"x > y or z > y:\", x > y or z > y)  # Or\n",
        "\n",
        "print(\"not (x < y):\", not (x < y)) #Not"
      ],
      "metadata": {
        "colab": {
          "base_uri": "https://localhost:8080/"
        },
        "id": "sCHEJt2L_KXR",
        "outputId": "352b3abd-42d8-47cd-e7b7-97aa7e329304"
      },
      "execution_count": 17,
      "outputs": [
        {
          "output_type": "stream",
          "name": "stdout",
          "text": [
            "x > y and y > z: True\n",
            "x > y or z > y: True\n",
            "not (x < y): True\n",
            "x > y and y > z: True\n",
            "x > y or z > y: True\n",
            "not (x < y): True\n"
          ]
        }
      ]
    },
    {
      "cell_type": "markdown",
      "source": [
        "9.Write a Python program to convert user input from string to integer, float, and boolean types"
      ],
      "metadata": {
        "id": "2ZbJj1xY_7dd"
      }
    },
    {
      "cell_type": "code",
      "source": [
        "user_input = int(input(\"Enter a integer : \"))\n",
        "print(type(user_input))\n",
        "\n",
        "user_input = float(input(\"Enter a float : \"))\n",
        "print(type(user_input))\n",
        "\n",
        "user_input = bool(input(\"Enter a boolean value : \"))\n",
        "print(type(user_input))"
      ],
      "metadata": {
        "colab": {
          "base_uri": "https://localhost:8080/"
        },
        "id": "mqHr2IGDAmJz",
        "outputId": "e6edb6ff-eb70-4554-a48e-6f7c9d9b4507"
      },
      "execution_count": 3,
      "outputs": [
        {
          "output_type": "stream",
          "name": "stdout",
          "text": [
            "Enter a integer : 15\n",
            "<class 'int'>\n",
            "Enter a float : 15.0\n",
            "<class 'float'>\n",
            "Enter a boolean value : True\n",
            "<class 'bool'>\n"
          ]
        }
      ]
    },
    {
      "cell_type": "markdown",
      "source": [
        "3.Write code to demonstrate type casting with list elements"
      ],
      "metadata": {
        "id": "ZkPr7YUT-KNa"
      }
    },
    {
      "cell_type": "code",
      "source": [
        "\n",
        "x = \"10\"\n",
        "\n",
        "x_int = int(x)\n",
        "print(\"Integer:\", x_int)\n",
        "\n",
        "x_float = float(x)\n",
        "print(\"Float:\", x_float)\n",
        "\n",
        "x_str = str(x_int)\n",
        "print(\"String:\", x_str)\n"
      ],
      "metadata": {
        "id": "iED8u9jX-UxN",
        "outputId": "7a34c913-9dfc-4750-d6e8-0e97ef542de4",
        "colab": {
          "base_uri": "https://localhost:8080/"
        }
      },
      "execution_count": 1,
      "outputs": [
        {
          "output_type": "stream",
          "name": "stdout",
          "text": [
            "Integer: 10\n",
            "Float: 10.0\n",
            "String: 10\n"
          ]
        }
      ]
    },
    {
      "cell_type": "markdown",
      "source": [
        "10. Write a program that checks if a number is positive, negative, or zero"
      ],
      "metadata": {
        "id": "Lgt7oofF-5zl"
      }
    },
    {
      "cell_type": "code",
      "source": [
        "\n",
        "num = float(input(\"Enter a number: \"))\n",
        "\n",
        "if num > 0:\n",
        "    print(\"The number is positive.\")\n",
        "elif num < 0:\n",
        "    print(\"The number is negative.\")\n",
        "else:\n",
        "    print(\"The number is zero.\")\n"
      ],
      "metadata": {
        "id": "pVz1mMY__M92",
        "outputId": "7b1cb042-b08f-416c-f943-db7b1f2fde11",
        "colab": {
          "base_uri": "https://localhost:8080/"
        }
      },
      "execution_count": 2,
      "outputs": [
        {
          "output_type": "stream",
          "name": "stdout",
          "text": [
            "Enter a number: -5\n",
            "The number is negative.\n"
          ]
        }
      ]
    },
    {
      "cell_type": "markdown",
      "source": [
        "12.Write a for loop to print numbers from 1 to 10"
      ],
      "metadata": {
        "id": "dDGiWn9QAAan"
      }
    },
    {
      "cell_type": "code",
      "source": [
        "for i in range(1, 11):\n",
        "    print(i)\n"
      ],
      "metadata": {
        "id": "-kQUAz7C_Z_x",
        "outputId": "16794afe-6b6c-4834-90b9-35b88987f2d3",
        "colab": {
          "base_uri": "https://localhost:8080/"
        }
      },
      "execution_count": 4,
      "outputs": [
        {
          "output_type": "stream",
          "name": "stdout",
          "text": [
            "1\n",
            "2\n",
            "3\n",
            "4\n",
            "5\n",
            "6\n",
            "7\n",
            "8\n",
            "9\n",
            "10\n"
          ]
        }
      ]
    },
    {
      "cell_type": "markdown",
      "source": [
        "13.Write a Python program to find the sum of all even numbers between 1 and 50"
      ],
      "metadata": {
        "id": "_6RxwfhPAXRk"
      }
    },
    {
      "cell_type": "code",
      "source": [
        "\n",
        "total = 0\n",
        "\n",
        "for num in range(2, 51, 2):\n",
        "    total += num\n",
        "\n",
        "print(\"Sum of even numbers between 1 and 50:\", total)\n"
      ],
      "metadata": {
        "id": "pWmkhb93AtSH",
        "outputId": "ab0c07ed-78fc-4a9b-bf85-594aeda1537d",
        "colab": {
          "base_uri": "https://localhost:8080/"
        }
      },
      "execution_count": 5,
      "outputs": [
        {
          "output_type": "stream",
          "name": "stdout",
          "text": [
            "Sum of even numbers between 1 and 50: 650\n"
          ]
        }
      ]
    },
    {
      "cell_type": "markdown",
      "source": [
        "14.Write a program to reverse a string using a while loop"
      ],
      "metadata": {
        "id": "b5mKOVJnBIk3"
      }
    },
    {
      "cell_type": "code",
      "source": [
        "s = input(\"Enter a string: \")\n",
        "i = len(s) - 1\n",
        "while i >= 0:\n",
        "    print(s[i], end=\"\")\n",
        "    i -= 1"
      ],
      "metadata": {
        "id": "L5fYb68dBBWd",
        "outputId": "bbc03035-69ef-469f-f22f-c06e10820e6a",
        "colab": {
          "base_uri": "https://localhost:8080/"
        }
      },
      "execution_count": 6,
      "outputs": [
        {
          "output_type": "stream",
          "name": "stdout",
          "text": [
            "Enter a string: adi\n",
            "ida"
          ]
        }
      ]
    },
    {
      "cell_type": "markdown",
      "source": [
        "15.Write a Python program to calculate the factorial of a number provided by the user using a while loop"
      ],
      "metadata": {
        "id": "fKut-TsYBpUY"
      }
    },
    {
      "cell_type": "code",
      "source": [
        "\n",
        "num = int(input(\"Enter a number: \"))\n",
        "\n",
        "factorial = 1\n",
        "i = num\n",
        "\n",
        "while i > 1:\n",
        "    factorial *= i\n",
        "    i -= 1\n",
        "\n",
        "print(\"Factorial of\", num, \"is\", factorial)\n"
      ],
      "metadata": {
        "id": "jvbukUnzBd5h",
        "outputId": "e4b58e16-d6f0-4ad5-a069-b3fb62841c61",
        "colab": {
          "base_uri": "https://localhost:8080/"
        }
      },
      "execution_count": 8,
      "outputs": [
        {
          "output_type": "stream",
          "name": "stdout",
          "text": [
            "Enter a number: 4\n",
            "Factorial of 4 is 24\n"
          ]
        }
      ]
    },
    {
      "cell_type": "code",
      "source": [],
      "metadata": {
        "id": "0JH64VNyCYml"
      },
      "execution_count": null,
      "outputs": []
    }
  ]
}