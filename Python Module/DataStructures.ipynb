{
  "nbformat": 4,
  "nbformat_minor": 0,
  "metadata": {
    "colab": {
      "provenance": []
    },
    "kernelspec": {
      "name": "python3",
      "display_name": "Python 3"
    },
    "language_info": {
      "name": "python"
    }
  },
  "cells": [
    {
      "cell_type": "markdown",
      "source": [
        "#Data Structures\n"
      ],
      "metadata": {
        "id": "waFni_rSFUlP"
      }
    },
    {
      "cell_type": "markdown",
      "source": [
        "##Q&A"
      ],
      "metadata": {
        "id": "81arvZChFcdv"
      }
    },
    {
      "cell_type": "markdown",
      "source": [
        "1.What are data structures, and why are they important?\n",
        "- Data structures organize and store data efficiently for processing and retrieval. They are essential for optimizing algorithms and solving computational problems.\n",
        "\n",
        "2.Explain the difference between mutable and immutable data types with examples.\n",
        "- Mutable data types (e.g., lists, dictionaries) can be modified after creation, whereas immutable types (e.g., strings, tuples) cannot be changed once created.\n",
        "\n",
        "3.What are the main differences between lists and tuples in Python?\n",
        "- Lists are mutable, slower, and use more memory, while tuples are immutable, faster, and use less memory.\n",
        "\n",
        "4.Describe how dictionaries store data.\n",
        "- Dictionaries store data as key-value pairs, using a hash table for fast lookup, insertion, and deletion.\n",
        "\n",
        "5.Why might you use a set instead of a list in Python?\n",
        "- Sets are used for unique elements and faster membership checks, while lists allow duplicates and maintain order.\n",
        "\n",
        "6.What is a string in Python, and how is it different from a list?\n",
        "- A string is an immutable sequence of characters, whereas a list is mutable and can store elements of different types.\n",
        "\n",
        "7.How do tuples ensure data integrity in Python?\n",
        "- Tuples are immutable, preventing accidental modifications, which makes them suitable for fixed data storage.\n",
        "\n",
        "8.What is a hash table, and how does it relate to dictionaries in Python?\n",
        "- A hash table is a data structure that maps keys to values using a hashing function, forming the backbone of Python dictionaries.\n",
        "\n",
        "9.Can lists contain different data types in Python?\n",
        "- Yes, lists can store mixed data types, including integers, strings, floats, and even other lists or objects.\n",
        "\n",
        "10.Explain why strings are immutable in Python.\n",
        "- Strings are immutable to ensure data consistency, security, and performance optimizations like string interning.\n",
        "\n",
        "11.What advantages do dictionaries offer over lists for certain tasks?\n",
        "- Dictionaries provide faster lookups and are ideal for storing key-value pairs, unlike lists that require linear searches.\n",
        "\n",
        "12.How do sets handle duplicate values in Python?\n",
        "- Sets automatically remove duplicates, ensuring all elements are unique.\n",
        "\n",
        "13.Describe a scenario where using a tuple would be preferable over a list.\n",
        "- Tuples are ideal for fixed data like coordinates or database records that should not be modified.\n",
        "\n",
        "14.How does the “in” keyword work differently for lists and dictionaries?\n",
        "- In lists, it checks for values, whereas in dictionaries, it checks for keys only.\n",
        "\n",
        "15.Can you modify the elements of a tuple? Explain why or why not.\n",
        "- No, tuples are immutable, so their elements cannot be changed after creation.\n",
        "\n",
        "16.What is a nested dictionary, and give an example of its use case?\n",
        "- A nested dictionary is a dictionary containing another dictionary.\n",
        "Example: students = {\"John\": {\"age\": 20, \"grade\": \"A\"}} for organizing complex data.\n",
        "\n",
        "17.Describe the time complexity of accessing elements in a dictionary.\n",
        "- Accessing elements in a dictionary has O(1) time complexity due to hashing.\n",
        "\n",
        "18.In what situations are lists preferred over dictionaries?\n",
        "- Lists are preferred for ordered data, sequential access, and when the order of elements matters.\n",
        "\n",
        "19.Why are dictionaries considered unordered, and how does that affect data retrieval?\n",
        "- Dictionaries are considered unordered because they store data using a hashing mechanism, which organizes elements based on hash values rather than their insertion order . This means elements cannot be accessed by position or index, only by their keys.\n",
        "\n",
        "20.Explain the difference between a list and a dictionary in terms of data retrieval.\n",
        "- Lists require linear searches (O(n)), while dictionaries allow constant-time lookups (O(1)) using keys."
      ],
      "metadata": {
        "id": "X2j1rlEcFgKm"
      }
    },
    {
      "cell_type": "markdown",
      "source": [
        "##Coding Questions"
      ],
      "metadata": {
        "id": "OFT26GdgJ925"
      }
    },
    {
      "cell_type": "markdown",
      "source": [
        "1.Write a code to create a string with your name and print it."
      ],
      "metadata": {
        "id": "rMzMVIY-KJuS"
      }
    },
    {
      "cell_type": "code",
      "source": [
        "name = \"Aditya\"\n",
        "print(name)"
      ],
      "metadata": {
        "colab": {
          "base_uri": "https://localhost:8080/"
        },
        "id": "BhCv3F7pKD3i",
        "outputId": "d27f16e8-9758-47fc-d7d8-5ff9d6071547"
      },
      "execution_count": 1,
      "outputs": [
        {
          "output_type": "stream",
          "name": "stdout",
          "text": [
            "Aditya\n"
          ]
        }
      ]
    },
    {
      "cell_type": "markdown",
      "source": [
        "2.Write a code to find the length of the string \"Hello World\"."
      ],
      "metadata": {
        "id": "b1iRwnU6KhLF"
      }
    },
    {
      "cell_type": "code",
      "source": [
        "str = \"Hello World\"\n",
        "print(len(str))"
      ],
      "metadata": {
        "colab": {
          "base_uri": "https://localhost:8080/"
        },
        "id": "HFiza6biKfBG",
        "outputId": "e2f014b8-fb41-4a25-d3a6-0bcb4c15a5fa"
      },
      "execution_count": 6,
      "outputs": [
        {
          "output_type": "stream",
          "name": "stdout",
          "text": [
            "11\n"
          ]
        }
      ]
    },
    {
      "cell_type": "markdown",
      "source": [
        "3.Write a code to slice the first 3 characters from the string \"Python Programming\"."
      ],
      "metadata": {
        "id": "PuCOVfotLbef"
      }
    },
    {
      "cell_type": "code",
      "source": [
        "text = \"Python Programming\"\n",
        "print(text[:3])\n"
      ],
      "metadata": {
        "colab": {
          "base_uri": "https://localhost:8080/"
        },
        "id": "77YEq_nLK2r8",
        "outputId": "3ed470a8-cc25-4b1a-a96d-8b9e7b8ca91c"
      },
      "execution_count": 8,
      "outputs": [
        {
          "output_type": "stream",
          "name": "stdout",
          "text": [
            "Pyt\n"
          ]
        }
      ]
    },
    {
      "cell_type": "markdown",
      "source": [
        "4.Write a code to convert the string \"hello\" to uppercase."
      ],
      "metadata": {
        "id": "Jr50gWobL0r4"
      }
    },
    {
      "cell_type": "code",
      "source": [
        "text = \"Hello\"\n",
        "print(text.upper())"
      ],
      "metadata": {
        "colab": {
          "base_uri": "https://localhost:8080/"
        },
        "id": "1KO6UowmLsD-",
        "outputId": "358742df-5713-48a1-8b37-66e08d4c2283"
      },
      "execution_count": 9,
      "outputs": [
        {
          "output_type": "stream",
          "name": "stdout",
          "text": [
            "HELLO\n"
          ]
        }
      ]
    },
    {
      "cell_type": "markdown",
      "source": [
        "5.Write a code to replace the word \"apple\" with \"orange\" in the string \"I like apple\"."
      ],
      "metadata": {
        "id": "_Snj51BgMUeA"
      }
    },
    {
      "cell_type": "code",
      "source": [
        "text = \"I like apple\"\n",
        "new_text = text.replace(\"apple\", \"orange\")\n",
        "print(new_text)\n"
      ],
      "metadata": {
        "colab": {
          "base_uri": "https://localhost:8080/"
        },
        "id": "ZqUMj73cMStl",
        "outputId": "872fec8a-9f6b-4f75-aab5-42e4ecd37b73"
      },
      "execution_count": 10,
      "outputs": [
        {
          "output_type": "stream",
          "name": "stdout",
          "text": [
            "I like orange\n"
          ]
        }
      ]
    },
    {
      "cell_type": "markdown",
      "source": [
        "6.Write a code to create a list with numbers 1 to 5 and print it."
      ],
      "metadata": {
        "id": "mXEaKygtNuRt"
      }
    },
    {
      "cell_type": "code",
      "source": [
        "numbers = [1, 2, 3, 4, 5]\n",
        "print(numbers)"
      ],
      "metadata": {
        "colab": {
          "base_uri": "https://localhost:8080/"
        },
        "id": "inEKG6zlNtAF",
        "outputId": "1d1f46cd-0397-4c2e-b340-c72d43b678ba"
      },
      "execution_count": 11,
      "outputs": [
        {
          "output_type": "stream",
          "name": "stdout",
          "text": [
            "[1, 2, 3, 4, 5]\n"
          ]
        }
      ]
    },
    {
      "cell_type": "markdown",
      "source": [
        "7.Write a code to append the number 10 to the list [1, 2, 3, 4]."
      ],
      "metadata": {
        "id": "YGeoS9GmOZUh"
      }
    },
    {
      "cell_type": "code",
      "source": [
        "numbers = [1, 2, 3, 4]\n",
        "numbers.append(10)\n",
        "print(numbers)\n"
      ],
      "metadata": {
        "colab": {
          "base_uri": "https://localhost:8080/"
        },
        "id": "Eqv0pjdpOYbr",
        "outputId": "7b6f29ca-3fb6-4c82-c4d9-ea459c699e51"
      },
      "execution_count": 13,
      "outputs": [
        {
          "output_type": "stream",
          "name": "stdout",
          "text": [
            "[1, 2, 3, 4, 10]\n"
          ]
        }
      ]
    },
    {
      "cell_type": "markdown",
      "source": [
        "8.Write a code to remove the number 3 from the list [1, 2, 3, 4, 5]"
      ],
      "metadata": {
        "id": "SyFhuJgBOqUc"
      }
    },
    {
      "cell_type": "code",
      "source": [
        "numbers = [1, 2, 3, 4, 5]\n",
        "numbers.remove(3)\n",
        "print(numbers)\n"
      ],
      "metadata": {
        "colab": {
          "base_uri": "https://localhost:8080/"
        },
        "id": "tev2_x2KO0H3",
        "outputId": "7922997f-5cc6-443c-de9d-d6be9a81023e"
      },
      "execution_count": 12,
      "outputs": [
        {
          "output_type": "stream",
          "name": "stdout",
          "text": [
            "[1, 2, 4, 5]\n"
          ]
        }
      ]
    },
    {
      "cell_type": "markdown",
      "source": [
        "9.Write a code to access the second element in the list ['a', 'b', 'c', 'd']."
      ],
      "metadata": {
        "id": "O162qytwO-R0"
      }
    },
    {
      "cell_type": "code",
      "source": [
        "letters = ['a', 'b', 'c', 'd']\n",
        "print(letters[1])\n"
      ],
      "metadata": {
        "colab": {
          "base_uri": "https://localhost:8080/"
        },
        "id": "ms0cLAA8O5of",
        "outputId": "ccdc8749-378f-4066-c673-342f0de106c7"
      },
      "execution_count": 14,
      "outputs": [
        {
          "output_type": "stream",
          "name": "stdout",
          "text": [
            "b\n"
          ]
        }
      ]
    },
    {
      "cell_type": "markdown",
      "source": [
        "10.Write a code to reverse the list [10, 20, 30, 40, 50]."
      ],
      "metadata": {
        "id": "DIcT26L4PLZu"
      }
    },
    {
      "cell_type": "code",
      "source": [
        "numbers = [10, 20, 30, 40, 50]\n",
        "numbers.reverse()\n",
        "print(numbers)\n"
      ],
      "metadata": {
        "colab": {
          "base_uri": "https://localhost:8080/"
        },
        "id": "T2HmtOJKPImF",
        "outputId": "9483fe58-392e-46f4-9797-5e0a925aa82e"
      },
      "execution_count": 15,
      "outputs": [
        {
          "output_type": "stream",
          "name": "stdout",
          "text": [
            "[50, 40, 30, 20, 10]\n"
          ]
        }
      ]
    },
    {
      "cell_type": "code",
      "source": [],
      "metadata": {
        "id": "sigrL3d2PTrb"
      },
      "execution_count": null,
      "outputs": []
    }
  ]
}