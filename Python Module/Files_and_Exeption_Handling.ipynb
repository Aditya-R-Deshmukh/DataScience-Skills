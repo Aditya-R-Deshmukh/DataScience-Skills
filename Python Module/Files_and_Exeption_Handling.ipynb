{
  "nbformat": 4,
  "nbformat_minor": 0,
  "metadata": {
    "colab": {
      "provenance": []
    },
    "kernelspec": {
      "name": "python3",
      "display_name": "Python 3"
    },
    "language_info": {
      "name": "python"
    }
  },
  "cells": [
    {
      "cell_type": "markdown",
      "source": [
        "#Files, exceptional handling, logging and memory management"
      ],
      "metadata": {
        "id": "W6Eb2qsxXuWq"
      }
    },
    {
      "cell_type": "markdown",
      "source": [
        "##Q&A"
      ],
      "metadata": {
        "id": "lBS5BuzxYJjd"
      }
    },
    {
      "cell_type": "markdown",
      "source": [
        "1.Difference between Interpreted and Compiled Languages  \n",
        "   - Interpreted: Code is executed line by line at runtime (e.g., Python, JavaScript). Slower but flexible.  \n",
        "   - Compiled: Code is translated into machine code before execution (e.g., C, C++). Faster but requires compilation.  \n",
        "\n",
        "2.What is Exception Handling in Python?**  \n",
        "   - A mechanism to handle runtime errors using try, except, finally, and else blocks to prevent program crashes.  \n",
        "\n",
        "3.What is the Purpose of the finally Block in Exception Handling?  \n",
        "   - The finally block executes regardless of whether an exception occurs, ensuring cleanup operations (e.g., closing files).  \n",
        "\n",
        "4.What is Logging in Python?  \n",
        "   - The logging module records messages (info, warnings, errors) to help debug and monitor a program's execution.  \n",
        "\n",
        "5.What is the Significance of the __del__ Method in Python?  \n",
        "   - The __del__ method is a destructor that gets called when an object is deleted to free up resources like file handles.  \n",
        "\n",
        "6.Difference between import and from ... import in Python?  \n",
        "   - import module_name imports the whole module, requiring module_name.function().  \n",
        "   - from module_name import function imports specific functions, allowing direct usage.  \n",
        "\n",
        "7.How Can You Handle Multiple Exceptions in Python?  \n",
        "   - Use multiple except blocks for different exception types or a single except (Exception1, Exception2) as e: to catch multiple exceptions.  \n",
        "\n",
        "8.What is the Purpose of the with Statement When Handling Files?  \n",
        "   - The with statement ensures files are properly closed after use, preventing resource leaks.  \n",
        "\n",
        "9.Difference Between Multithreading and Multiprocessing?  \n",
        "   - Multithreading: Multiple threads run within a single process, sharing memory.  \n",
        "   - Multiprocessing: Multiple processes run independently, each with its own memory space.  \n",
        "\n",
        "10.Advantages of Using Logging in a Program  \n",
        "   - Helps track errors, monitor program flow, and debug efficiently without using print statements.  \n",
        "\n",
        "11.What is Memory Management in Python?  \n",
        "   - Python manages memory using a private heap, automatic garbage collection, and dynamic memory allocation.  \n",
        "\n",
        "12.Basic Steps in Exception Handling in Python  \n",
        "   - Use try to wrap risky code, except to catch errors, else for successful execution, and finally for cleanup.  \n",
        "\n",
        "13.Why is Memory Management Important in Python?  \n",
        "   - It ensures efficient resource utilization, prevents memory leaks, and optimizes program performance.  \n",
        "\n",
        "14.Role of try and except in Exception Handling  \n",
        "   - try contains code that may raise an exception, while except handles the error gracefully.  \n",
        "\n",
        "15.How Does Python’s Garbage Collection System Work?\n",
        "   - Uses reference counting and a cyclic garbage collector to reclaim unused memory automatically.  \n",
        "\n",
        "16.Purpose of the else Block in Exception Handling  \n",
        "   - The else block runs if no exceptions occur in the try block, keeping logic separate.  \n",
        "\n",
        "17.Common Logging Levels in Python\n",
        "   - DEBUG, INFO, WARNING, ERROR, and CRITICAL, indicating severity levels.  \n",
        "\n",
        "18.Difference Between os.fork() and multiprocessing in Python  \n",
        "   - os.fork() creates a child process in Unix-like systems, while multiprocessing works cross-platform and provides better control.  \n",
        "\n",
        "19.Importance of Closing a File in Python  \n",
        "   - Prevents data corruption, memory leaks, and ensures changes are properly saved.  \n",
        "\n",
        "20.Difference Between file.read() and file.readline() in Python  \n",
        "   - file.read() reads the entire file, while file.readline() reads one line at a time.  \n",
        "\n",
        "21.What is the logging Module in Python Used For?  \n",
        "   - Used for tracking events, debugging, and error handling by logging messages to files or console.  \n",
        "\n",
        "22.What is the os Module in Python Used for in File Handling?  \n",
        "   - Provides functions to interact with the operating system, such as creating, deleting, and navigating files and directories.  \n",
        "\n",
        "23.Challenges Associated with Memory Management in Python  \n",
        "   - High memory consumption, cyclic references, and unpredictable garbage collection timing.  \n",
        "\n",
        "24.How Do You Raise an Exception Manually in Python?  \n",
        "   - Use raise Exception(\"Custom Error Message\") to trigger an exception deliberately.  \n",
        "\n",
        "25.Why is It Important to Use Multithreading in Certain Applications?  \n",
        "   - Improves responsiveness in I/O-bound tasks (e.g., GUI applications, web scraping) by running multiple threads concurrently."
      ],
      "metadata": {
        "id": "u-VF-F2DYL6E"
      }
    },
    {
      "cell_type": "markdown",
      "source": [
        "##Coding Questions"
      ],
      "metadata": {
        "id": "j1DdurqboBjP"
      }
    },
    {
      "cell_type": "markdown",
      "source": [
        "1.How can you open a file for writing in Python and write a string to it"
      ],
      "metadata": {
        "id": "L1tFFuZ7oQpY"
      }
    },
    {
      "cell_type": "code",
      "source": [
        "with open(\"test.txt\", \"w\") as file:\n",
        "    file.write(\"Hello, this is a test file.\")"
      ],
      "metadata": {
        "id": "SS-aUKsqqr25"
      },
      "execution_count": 1,
      "outputs": []
    },
    {
      "cell_type": "markdown",
      "source": [
        "2.Write a Python program to read the contents of a file and print each line"
      ],
      "metadata": {
        "id": "EpXZulg0q13b"
      }
    },
    {
      "cell_type": "code",
      "source": [
        "with open(\"test.txt\", \"r\") as file:\n",
        "    for line in file:\n",
        "        print(line.strip())\n"
      ],
      "metadata": {
        "colab": {
          "base_uri": "https://localhost:8080/"
        },
        "id": "uvT36YzEq0KV",
        "outputId": "d57520c4-d8b8-4414-df6c-5bfa4380ebf7"
      },
      "execution_count": 2,
      "outputs": [
        {
          "output_type": "stream",
          "name": "stdout",
          "text": [
            "Hello, this is a test file.\n"
          ]
        }
      ]
    },
    {
      "cell_type": "markdown",
      "source": [
        "3.How would you handle a case where the file doesn't exist while trying to open it for reading"
      ],
      "metadata": {
        "id": "lNF7z6WrrLp-"
      }
    },
    {
      "cell_type": "code",
      "source": [
        "try:\n",
        "    with open(\"temp.txt\", \"r\") as file:\n",
        "        content = file.read()\n",
        "        print(content)\n",
        "except FileNotFoundError:\n",
        "    print(\"Error: File does not exist.\")\n"
      ],
      "metadata": {
        "colab": {
          "base_uri": "https://localhost:8080/"
        },
        "id": "mSRVQmUYrDh3",
        "outputId": "6eba238e-bf9c-48a9-e61b-bd743febcb3a"
      },
      "execution_count": 3,
      "outputs": [
        {
          "output_type": "stream",
          "name": "stdout",
          "text": [
            "Error: File does not exist.\n"
          ]
        }
      ]
    },
    {
      "cell_type": "markdown",
      "source": [
        "4.Write a Python script that reads from one file and writes its content to another file"
      ],
      "metadata": {
        "id": "7OpWmhVZrtXe"
      }
    },
    {
      "cell_type": "code",
      "source": [
        "with open(\"test.txt\", \"r\") as source, open(\"test2.txt\", \"w\") as destination:\n",
        "    destination.write(source.read())\n",
        "\n"
      ],
      "metadata": {
        "id": "oJIEtv5ErhWR"
      },
      "execution_count": 8,
      "outputs": []
    },
    {
      "cell_type": "markdown",
      "source": [
        "5.How would you catch and handle division by zero error in Python"
      ],
      "metadata": {
        "id": "dM637YvjtE39"
      }
    },
    {
      "cell_type": "code",
      "source": [
        "try:\n",
        "    result = 10 / 0\n",
        "except ZeroDivisionError:\n",
        "    print(\"Error: Division by zero is not allowed.\")\n"
      ],
      "metadata": {
        "colab": {
          "base_uri": "https://localhost:8080/"
        },
        "id": "4kKA8wTvsjfD",
        "outputId": "808e9ed5-4dc6-42be-8051-8d2201ff7b5a"
      },
      "execution_count": 9,
      "outputs": [
        {
          "output_type": "stream",
          "name": "stdout",
          "text": [
            "Error: Division by zero is not allowed.\n"
          ]
        }
      ]
    },
    {
      "cell_type": "markdown",
      "source": [
        "6.Write a Python program that logs an error message to a log file when a division by zero exception occurs"
      ],
      "metadata": {
        "id": "5IeDVouNtZSQ"
      }
    },
    {
      "cell_type": "code",
      "source": [
        "import logging\n",
        "\n",
        "logging.basicConfig(filename=\"error.log\", level=logging.ERROR)\n",
        "\n",
        "try:\n",
        "    result = 10 / 0\n",
        "\n",
        "except ZeroDivisionError:\n",
        "    logging.error(\"Division by zero occurred\", exc_info=True)\n"
      ],
      "metadata": {
        "colab": {
          "base_uri": "https://localhost:8080/"
        },
        "id": "Mj7vmyqftW7S",
        "outputId": "f1b73c4d-4608-4d21-ed58-47d62f27a159"
      },
      "execution_count": 12,
      "outputs": [
        {
          "output_type": "stream",
          "name": "stderr",
          "text": [
            "ERROR:root:Division by zero occurred\n",
            "Traceback (most recent call last):\n",
            "  File \"<ipython-input-12-d12f697d1617>\", line 6, in <cell line: 0>\n",
            "    result = 10 / 0\n",
            "             ~~~^~~\n",
            "ZeroDivisionError: division by zero\n"
          ]
        }
      ]
    },
    {
      "cell_type": "markdown",
      "source": [
        "7.How do you log information at different levels (INFO, ERROR, WARNING) in Python using the logging module"
      ],
      "metadata": {
        "id": "mzBofq_UuKtb"
      }
    },
    {
      "cell_type": "code",
      "source": [
        "import logging\n",
        "\n",
        "logging.basicConfig(level=logging.DEBUG)\n",
        "\n",
        "logging.info(\"This is an informational message\")\n",
        "logging.warning(\"This is a warning message\")\n",
        "logging.error(\"This is an error message\")"
      ],
      "metadata": {
        "colab": {
          "base_uri": "https://localhost:8080/"
        },
        "id": "7V9ucQp8tqFZ",
        "outputId": "7bfdcafa-04d4-4974-e93f-e09a53866ffc"
      },
      "execution_count": 13,
      "outputs": [
        {
          "output_type": "stream",
          "name": "stderr",
          "text": [
            "WARNING:root:This is a warning message\n",
            "ERROR:root:This is an error message\n"
          ]
        }
      ]
    },
    {
      "cell_type": "markdown",
      "source": [
        "8.Write a program to handle a file opening error using exception handling"
      ],
      "metadata": {
        "id": "YJoz63Tyu2CE"
      }
    },
    {
      "cell_type": "code",
      "source": [
        "try:\n",
        "    with open(\"na.txt\", \"r\") as file:\n",
        "        content = file.read()\n",
        "except FileNotFoundError:\n",
        "    print(\"Error: Unable to open file.\")"
      ],
      "metadata": {
        "colab": {
          "base_uri": "https://localhost:8080/"
        },
        "id": "MzmGLit1uvRq",
        "outputId": "470e1784-94a1-4fdb-9189-ba19e62b29ad"
      },
      "execution_count": 15,
      "outputs": [
        {
          "output_type": "stream",
          "name": "stdout",
          "text": [
            "Error: Unable to open file.\n"
          ]
        }
      ]
    },
    {
      "cell_type": "markdown",
      "source": [
        "9.How can you read a file line by line and store its content in a list in Python"
      ],
      "metadata": {
        "id": "aTKelEq_vaGp"
      }
    },
    {
      "cell_type": "code",
      "source": [
        "with open(\"test2.txt\", \"r\") as file:\n",
        "    lines = file.readlines()\n",
        "print(lines)"
      ],
      "metadata": {
        "colab": {
          "base_uri": "https://localhost:8080/"
        },
        "id": "vlsgH-invPu8",
        "outputId": "6674839c-d911-4b8b-de61-3282ae022228"
      },
      "execution_count": 17,
      "outputs": [
        {
          "output_type": "stream",
          "name": "stdout",
          "text": [
            "['Hi...!\\n', 'Hello, this is a test file.']\n"
          ]
        }
      ]
    },
    {
      "cell_type": "markdown",
      "source": [
        "10.How can you append data to an existing file in Python"
      ],
      "metadata": {
        "id": "tFwilNivwCP3"
      }
    },
    {
      "cell_type": "code",
      "source": [
        "with open(\"test2.txt\", \"a\") as file:\n",
        "    file.write(\"\\nNew line appended.\")"
      ],
      "metadata": {
        "id": "CInawKSCvs9B"
      },
      "execution_count": 19,
      "outputs": []
    },
    {
      "cell_type": "markdown",
      "source": [
        "11.Write a Python program that uses a try-except block to handle an error when attempting to access a dictionary key that doesn't exist"
      ],
      "metadata": {
        "id": "2HJPZCrDw3tp"
      }
    },
    {
      "cell_type": "code",
      "source": [
        "my_dict = {\"name\": \"Aditya\"}\n",
        "try:\n",
        "    print(my_dict[\"age\"])\n",
        "except KeyError:\n",
        "    print(\"Error: Key not found in dictionary.\")\n"
      ],
      "metadata": {
        "colab": {
          "base_uri": "https://localhost:8080/"
        },
        "id": "I22eTGmqwthU",
        "outputId": "008e7131-da18-43a8-bc0e-2ca9257c7cb1"
      },
      "execution_count": 20,
      "outputs": [
        {
          "output_type": "stream",
          "name": "stdout",
          "text": [
            "Error: Key not found in dictionary.\n"
          ]
        }
      ]
    },
    {
      "cell_type": "markdown",
      "source": [
        "12.Write a program that demonstrates using multiple except blocks to handle different types of exceptions"
      ],
      "metadata": {
        "id": "YA6KbBBDxKyn"
      }
    },
    {
      "cell_type": "code",
      "source": [
        "try:\n",
        "    x = int(\"hello\")\n",
        "    y = 10 / 0\n",
        "except ValueError:\n",
        "    print(\"Error: Invalid conversion to integer.\")\n",
        "except ZeroDivisionError:\n",
        "    print(\"Error: Division by zero.\")\n"
      ],
      "metadata": {
        "colab": {
          "base_uri": "https://localhost:8080/"
        },
        "id": "GhQhuUcaxIUg",
        "outputId": "2ac0881a-e281-454d-8d07-e9a7e0789c65"
      },
      "execution_count": 21,
      "outputs": [
        {
          "output_type": "stream",
          "name": "stdout",
          "text": [
            "Error: Invalid conversion to integer.\n"
          ]
        }
      ]
    },
    {
      "cell_type": "markdown",
      "source": [
        "13.How would you check if a file exists before attempting to read it in Python"
      ],
      "metadata": {
        "id": "D06J_VkmxuoE"
      }
    },
    {
      "cell_type": "code",
      "source": [
        "import os\n",
        "\n",
        "if os.path.exists(\"test.txt\"):\n",
        "    with open(\"test.txt\", \"r\") as file:\n",
        "        print(file.read())\n",
        "else:\n",
        "    print(\"File does not exist.\")"
      ],
      "metadata": {
        "colab": {
          "base_uri": "https://localhost:8080/"
        },
        "id": "aJNB8OdIxl5B",
        "outputId": "cce29c25-0318-4199-cef0-2561ef81813a"
      },
      "execution_count": 22,
      "outputs": [
        {
          "output_type": "stream",
          "name": "stdout",
          "text": [
            "Hello, this is a test file.\n"
          ]
        }
      ]
    },
    {
      "cell_type": "markdown",
      "source": [
        "14.Write a program that uses the logging module to log both informational and error messages"
      ],
      "metadata": {
        "id": "lmUgdYLyyNu0"
      }
    },
    {
      "cell_type": "code",
      "source": [
        "import logging\n",
        "\n",
        "logging.basicConfig(filename=\"app.log\", level=logging.INFO)\n",
        "\n",
        "logging.info(\"Program started\")\n",
        "try:\n",
        "    result = 10 / 0\n",
        "except ZeroDivisionError:\n",
        "    logging.error(\"An error occurred: Division by zero\")\n"
      ],
      "metadata": {
        "colab": {
          "base_uri": "https://localhost:8080/"
        },
        "id": "-ZKzr01pyFXj",
        "outputId": "4cc0d881-c789-461e-f3e3-1f0f77bfd857"
      },
      "execution_count": 23,
      "outputs": [
        {
          "output_type": "stream",
          "name": "stderr",
          "text": [
            "ERROR:root:An error occurred: Division by zero\n"
          ]
        }
      ]
    },
    {
      "cell_type": "markdown",
      "source": [
        "15.Write a Python program that prints the content of a file and handles the case when the file is empty"
      ],
      "metadata": {
        "id": "E8v8jd5bypx8"
      }
    },
    {
      "cell_type": "code",
      "source": [
        "with open(\"test2.txt\", \"r\") as file:\n",
        "    content = file.read()\n",
        "    if not content:\n",
        "        print(\"File is empty.\")\n",
        "    else:\n",
        "        print(content)\n"
      ],
      "metadata": {
        "colab": {
          "base_uri": "https://localhost:8080/"
        },
        "id": "g_YG8KtHyebk",
        "outputId": "a4cbcdfd-1329-43d9-d9c3-4ff6e6b03874"
      },
      "execution_count": 24,
      "outputs": [
        {
          "output_type": "stream",
          "name": "stdout",
          "text": [
            "Hi...!\n",
            "Hello, this is a test file.\n",
            "New line appended.\n"
          ]
        }
      ]
    },
    {
      "cell_type": "markdown",
      "source": [
        "16.Demonstrate how to use memory profiling to check the memory usage of a small program"
      ],
      "metadata": {
        "id": "Iag6NExezDSG"
      }
    },
    {
      "cell_type": "code",
      "source": [
        "from memory_profiler import profile\n",
        "\n",
        "@profile\n",
        "def test():\n",
        "    numbers = [i for i in range(100)]\n",
        "    return numbers\n",
        "\n",
        "test()"
      ],
      "metadata": {
        "colab": {
          "base_uri": "https://localhost:8080/"
        },
        "id": "Rk-vJVZfzAWI",
        "outputId": "a58ec759-4ecb-4144-ecbd-dac74a245c0e"
      },
      "execution_count": 28,
      "outputs": [
        {
          "output_type": "stream",
          "name": "stdout",
          "text": [
            "ERROR: Could not find file <ipython-input-28-1ec362402d7b>\n",
            "NOTE: %mprun can only be used on functions defined in physical files, and not in the IPython environment.\n"
          ]
        },
        {
          "output_type": "execute_result",
          "data": {
            "text/plain": [
              "[0,\n",
              " 1,\n",
              " 2,\n",
              " 3,\n",
              " 4,\n",
              " 5,\n",
              " 6,\n",
              " 7,\n",
              " 8,\n",
              " 9,\n",
              " 10,\n",
              " 11,\n",
              " 12,\n",
              " 13,\n",
              " 14,\n",
              " 15,\n",
              " 16,\n",
              " 17,\n",
              " 18,\n",
              " 19,\n",
              " 20,\n",
              " 21,\n",
              " 22,\n",
              " 23,\n",
              " 24,\n",
              " 25,\n",
              " 26,\n",
              " 27,\n",
              " 28,\n",
              " 29,\n",
              " 30,\n",
              " 31,\n",
              " 32,\n",
              " 33,\n",
              " 34,\n",
              " 35,\n",
              " 36,\n",
              " 37,\n",
              " 38,\n",
              " 39,\n",
              " 40,\n",
              " 41,\n",
              " 42,\n",
              " 43,\n",
              " 44,\n",
              " 45,\n",
              " 46,\n",
              " 47,\n",
              " 48,\n",
              " 49,\n",
              " 50,\n",
              " 51,\n",
              " 52,\n",
              " 53,\n",
              " 54,\n",
              " 55,\n",
              " 56,\n",
              " 57,\n",
              " 58,\n",
              " 59,\n",
              " 60,\n",
              " 61,\n",
              " 62,\n",
              " 63,\n",
              " 64,\n",
              " 65,\n",
              " 66,\n",
              " 67,\n",
              " 68,\n",
              " 69,\n",
              " 70,\n",
              " 71,\n",
              " 72,\n",
              " 73,\n",
              " 74,\n",
              " 75,\n",
              " 76,\n",
              " 77,\n",
              " 78,\n",
              " 79,\n",
              " 80,\n",
              " 81,\n",
              " 82,\n",
              " 83,\n",
              " 84,\n",
              " 85,\n",
              " 86,\n",
              " 87,\n",
              " 88,\n",
              " 89,\n",
              " 90,\n",
              " 91,\n",
              " 92,\n",
              " 93,\n",
              " 94,\n",
              " 95,\n",
              " 96,\n",
              " 97,\n",
              " 98,\n",
              " 99]"
            ]
          },
          "metadata": {},
          "execution_count": 28
        }
      ]
    },
    {
      "cell_type": "code",
      "source": [
        "!pip install memory_profiler"
      ],
      "metadata": {
        "colab": {
          "base_uri": "https://localhost:8080/"
        },
        "id": "9_eVZl9ZzQ-v",
        "outputId": "923ed954-848a-4480-d6e9-4ca8815a12ac"
      },
      "execution_count": 26,
      "outputs": [
        {
          "output_type": "stream",
          "name": "stdout",
          "text": [
            "Collecting memory_profiler\n",
            "  Downloading memory_profiler-0.61.0-py3-none-any.whl.metadata (20 kB)\n",
            "Requirement already satisfied: psutil in /usr/local/lib/python3.11/dist-packages (from memory_profiler) (5.9.5)\n",
            "Downloading memory_profiler-0.61.0-py3-none-any.whl (31 kB)\n",
            "Installing collected packages: memory_profiler\n",
            "Successfully installed memory_profiler-0.61.0\n"
          ]
        }
      ]
    },
    {
      "cell_type": "markdown",
      "source": [
        "17.Write a Python program to create and write a list of numbers to a file, one number per line"
      ],
      "metadata": {
        "id": "VvAqO1oRz2J6"
      }
    },
    {
      "cell_type": "code",
      "source": [
        "numbers = [str(i) for i in range(1, 11)]\n",
        "\n",
        "with open(\"numbers.txt\", \"w\") as file:\n",
        "    file.write(\"\\n\".join(numbers))\n"
      ],
      "metadata": {
        "id": "OUgnwN5IznZF"
      },
      "execution_count": 29,
      "outputs": []
    },
    {
      "cell_type": "markdown",
      "source": [
        "18.How would you implement a basic logging setup that logs to a file with rotation after 1MB"
      ],
      "metadata": {
        "id": "4Cg3jZRa0L7O"
      }
    },
    {
      "cell_type": "code",
      "source": [
        "import logging\n",
        "from logging.handlers import RotatingFileHandler\n",
        "\n",
        "handler = RotatingFileHandler(\"app.log\", maxBytes=1024 * 1024, backupCount=5)\n",
        "logging.basicConfig(handlers=[handler], level=logging.INFO)\n",
        "\n",
        "logging.info(\"This is a test log entry.\")\n"
      ],
      "metadata": {
        "id": "Ycpxa2hd0GbL"
      },
      "execution_count": 30,
      "outputs": []
    },
    {
      "cell_type": "markdown",
      "source": [
        "19.Write a program that handles both IndexError and KeyError using a try-except block"
      ],
      "metadata": {
        "id": "ggT50AC40eM6"
      }
    },
    {
      "cell_type": "code",
      "source": [
        "try:\n",
        "    my_list = [1, 2, 3]\n",
        "    print(my_list[5])\n",
        "except IndexError:\n",
        "    print(\"Index out of range.\")\n",
        "\n",
        "try:\n",
        "    my_dict = {\"name\": \"Alice\"}\n",
        "    print(my_dict[\"age\"])\n",
        "except KeyError:\n",
        "    print(\"Key not found.\")\n"
      ],
      "metadata": {
        "colab": {
          "base_uri": "https://localhost:8080/"
        },
        "id": "bpkTzYq90cxL",
        "outputId": "abda2a6e-59c3-451f-8543-02dbabbbaff6"
      },
      "execution_count": 31,
      "outputs": [
        {
          "output_type": "stream",
          "name": "stdout",
          "text": [
            "Index out of range.\n",
            "Key not found.\n"
          ]
        }
      ]
    },
    {
      "cell_type": "markdown",
      "source": [
        "20.How would you open a file and read its contents using a context manager in Python"
      ],
      "metadata": {
        "id": "w1Z4cl0N0z0i"
      }
    },
    {
      "cell_type": "code",
      "source": [
        "with open(\"test2.txt\", \"r\") as file:\n",
        "    content = file.read()\n",
        "    print(content)"
      ],
      "metadata": {
        "colab": {
          "base_uri": "https://localhost:8080/"
        },
        "id": "7thvSOp90wlC",
        "outputId": "7c6a4516-72dd-464d-9a56-a18be2d51459"
      },
      "execution_count": 32,
      "outputs": [
        {
          "output_type": "stream",
          "name": "stdout",
          "text": [
            "Hi...!\n",
            "Hello, this is a test file.\n",
            "New line appended.\n"
          ]
        }
      ]
    },
    {
      "cell_type": "markdown",
      "source": [
        "21.Write a Python program that reads a file and prints the number of occurrences of a specific word"
      ],
      "metadata": {
        "id": "fr3ncN8P17R8"
      }
    },
    {
      "cell_type": "code",
      "source": [
        "word_to_find = \"Python\"\n",
        "count = 0\n",
        "\n",
        "with open(\"test2.txt\", \"r\") as file:\n",
        "    for line in file:\n",
        "        count += line.lower().count(word_to_find.lower())\n",
        "\n",
        "print(f\"The word '{word_to_find}' appears {count} times in the file.\")\n"
      ],
      "metadata": {
        "colab": {
          "base_uri": "https://localhost:8080/"
        },
        "id": "x-Rz-UGz15_G",
        "outputId": "eec70b85-e290-4ffa-83a8-072450472cc0"
      },
      "execution_count": 34,
      "outputs": [
        {
          "output_type": "stream",
          "name": "stdout",
          "text": [
            "The word 'Python' appears 0 times in the file.\n"
          ]
        }
      ]
    },
    {
      "cell_type": "markdown",
      "source": [
        "22.How can you check if a file is empty before attempting to read its contents"
      ],
      "metadata": {
        "id": "7XJr1zZY2SOl"
      }
    },
    {
      "cell_type": "code",
      "source": [
        "import os\n",
        "\n",
        "file_path = \"test2.txt\"\n",
        "\n",
        "if os.path.exists(file_path) and os.path.getsize(file_path) == 0:\n",
        "    print(\"The file is empty.\")\n",
        "else:\n",
        "    with open(file_path, \"r\") as file:\n",
        "        print(file.read())\n"
      ],
      "metadata": {
        "colab": {
          "base_uri": "https://localhost:8080/"
        },
        "id": "T4dBPnkR2LhX",
        "outputId": "e844eb85-5db8-408a-fde3-49a4065d7fe6"
      },
      "execution_count": 35,
      "outputs": [
        {
          "output_type": "stream",
          "name": "stdout",
          "text": [
            "Hi...!\n",
            "Hello, this is a test file.\n",
            "New line appended.\n"
          ]
        }
      ]
    },
    {
      "cell_type": "markdown",
      "source": [
        "23.Write a Python program that writes to a log file when an error occurs during file handling."
      ],
      "metadata": {
        "id": "l2foyM112vCe"
      }
    },
    {
      "cell_type": "code",
      "source": [
        "import logging\n",
        "\n",
        "logging.basicConfig(filename=\"error.log\", level=logging.ERROR)\n",
        "\n",
        "try:\n",
        "    result = 10 / 0\n",
        "\n",
        "except ZeroDivisionError:\n",
        "    logging.error(\"Division by zero occurred\", exc_info=True)\n"
      ],
      "metadata": {
        "colab": {
          "base_uri": "https://localhost:8080/"
        },
        "id": "zNsgRxy22l1h",
        "outputId": "5454d1ff-ffdc-49b0-e77e-8e5e815d9100"
      },
      "execution_count": 36,
      "outputs": [
        {
          "output_type": "stream",
          "name": "stderr",
          "text": [
            "ERROR:root:Division by zero occurred\n",
            "Traceback (most recent call last):\n",
            "  File \"<ipython-input-36-d12f697d1617>\", line 6, in <cell line: 0>\n",
            "    result = 10 / 0\n",
            "             ~~~^~~\n",
            "ZeroDivisionError: division by zero\n"
          ]
        }
      ]
    },
    {
      "cell_type": "code",
      "source": [],
      "metadata": {
        "id": "Pec8m0sd3Jnf"
      },
      "execution_count": null,
      "outputs": []
    }
  ]
}