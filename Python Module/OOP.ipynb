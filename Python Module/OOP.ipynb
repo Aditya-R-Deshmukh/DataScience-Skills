{
  "cells": [
    {
      "cell_type": "markdown",
      "id": "d28b2ae4",
      "metadata": {
        "id": "d28b2ae4"
      },
      "source": [
        "\n",
        "#Object-Oriented Programming (OOP) in Python\n",
        "\n",
        "\n",
        "##Q&A\n",
        "\n",
        "1. What is Object-Oriented Programming (OOP)?\n",
        "- OOP is a programming paradigm that organizes code into objects containing data (attributes) and behaviors (methods). It enhances code reusability, modularity, and maintainability.  \n",
        "\n",
        "2. What is a class in OOP?\n",
        "- A class is a blueprint or template for creating objects. It defines attributes (variables) and methods (functions) that its objects will have.  \n",
        "\n",
        "3. What is an object in OOP?\n",
        "- An object is an instance of a class. It represents a real-world entity with specific properties (attributes) and behaviors (methods).  \n",
        "\n",
        "4. What is the difference between abstraction and encapsulation?\n",
        "- **Abstraction** hides implementation details and only exposes essential functionalities (e.g., using an ATM without knowing its internal working).  \n",
        "- **Encapsulation** restricts direct access to an object’s data by using access modifiers (e.g., private variables in a class).  \n",
        "\n",
        "5. What are dunder methods in Python?\n",
        "- Dunder (double underscore) methods, like `__init__`, `__str__`, and `__repr__`, are special methods in Python that define object behavior, such as initialization, string representation, and more.  \n",
        "\n",
        "6. Explain the concept of inheritance in OOP.\n",
        "- Inheritance allows a class (child) to inherit attributes and methods from another class (parent). It promotes code reusability and hierarchy representation.  \n",
        "\n",
        "7. What is polymorphism in OOP?\n",
        "- Polymorphism allows methods to have different implementations based on the object that invokes them. It enables method overloading and overriding for flexibility.  \n",
        "\n",
        "8. How is encapsulation achieved in Python?\n",
        "Encapsulation is achieved using access specifiers:  \n",
        "- **Public** (`var`) → Accessible everywhere.  \n",
        "- **Protected** (`_var`) → Suggests restricted use.  \n",
        "- **Private** (`__var`) → Cannot be accessed directly outside the class.  \n",
        "\n",
        "9. What is a constructor in Python?\n",
        "- A constructor is a special method (`__init__`) that is automatically called when an object is created. It initializes the object’s attributes.  \n",
        "\n",
        "10. What are class and static methods in Python?\n",
        "- **Class Method (`@classmethod`)** → Works with the class and can modify class attributes.  \n",
        "- **Static Method (`@staticmethod`)** → Does not modify class or instance attributes, used for utility functions.  \n",
        "\n",
        "11. What is method overloading in Python?\n",
        "- Python does not support traditional method overloading (same method name, different parameters). However, we can achieve it using default arguments or `*args`/`**kwargs`.  \n",
        "\n",
        "12. What is method overriding in OOP?\n",
        "- Method overriding occurs when a child class provides a specific implementation of a method already defined in its parent class.  \n",
        "\n",
        "13. What is a property decorator in Python?\n",
        "The `@property` decorator allows a method to be accessed like an attribute, making property management more readable and controlled.  \n",
        "\n",
        "14. Why is polymorphism important in OOP?\n",
        "- Polymorphism increases flexibility and code reusability by allowing a single interface to work with different data types or objects.  \n",
        "\n",
        "15. What is an abstract class in Python?\n",
        "- An abstract class (using `ABC` module) contains abstract methods (without implementation). It cannot be instantiated and is meant to be inherited by subclasses.  \n",
        "\n",
        "16. What are the advantages of OOP?\n",
        "- Code reusability (via inheritance).  \n",
        "- Encapsulation ensures data security.  \n",
        "- Abstraction simplifies complexity.  \n",
        "- Polymorphism enhances flexibility.  \n",
        "\n",
        "17. What is multiple inheritance in Python?\n",
        "- Multiple inheritance allows a class to inherit from more than one parent class. Python supports it but requires careful handling of method resolution order (MRO).  \n",
        "\n",
        "18. What is the difference between a class variable and an instance variable?\n",
        "- **Class Variable** → Shared among all instances (defined outside `__init__`).  \n",
        "- **Instance Variable** → Unique to each object (defined inside `__init__`).  \n",
        "\n",
        "19. Explain the purpose of `__str__` and `__repr__` methods in Python.\n",
        "- `__str__` → Returns a user-friendly string representation of an object (used by `print()`).  \n",
        "- `__repr__` → Returns a developer-friendly representation (used for debugging).  \n",
        "\n",
        "20. What is the significance of the `super()` function in Python?\n",
        "- `super()` allows access to parent class methods and constructors, enabling method overriding and avoiding redundant code.  \n",
        "\n",
        "21. What is the significance of the `__del__` method in Python?\n",
        "The `__del__` method is a destructor that is called when an object is about to be destroyed, freeing resources like file handles and database connections.  \n",
        "\n",
        "22. What is the difference between `@staticmethod` and `@classmethod` in Python?\n",
        "- `@staticmethod` → No access to class or instance; used for independent utility functions.  \n",
        "- `@classmethod` → Works with the class and can modify class attributes.  \n",
        "\n",
        "23. How does polymorphism work in Python with inheritance?\n",
        "- Polymorphism allows a child class to define its own version of a parent method, enabling different behaviors for the same method call.  \n",
        "\n",
        "24. What is method chaining in Python OOP?\n",
        "- Method chaining allows multiple method calls on the same object in a single statement, returning `self` in each method.  \n",
        "\n",
        "25. What is the purpose of the `__call__` method in Python?\n",
        "- The `__call__` method makes an instance of a class callable like a function, allowing objects to behave like functions.  \n",
        "\n",
        "\n"
      ]
    },
    {
      "cell_type": "markdown",
      "source": [
        "##Coding Questions\n"
      ],
      "metadata": {
        "id": "jYkRDNUgtEX6"
      },
      "id": "jYkRDNUgtEX6"
    },
    {
      "cell_type": "markdown",
      "source": [
        " 1.Create a parent class Animal with a method speak() that prints a generic message. Create a child class Dog\n",
        "that overrides the speak() method to print \"Bark!\"."
      ],
      "metadata": {
        "id": "O-yOByjdZlY1"
      },
      "id": "O-yOByjdZlY1"
    },
    {
      "cell_type": "code",
      "source": [
        "class Animal:\n",
        "    def speak(self):\n",
        "        print(\"This animal makes a sound.\")\n",
        "\n",
        "class Dog(Animal):\n",
        "    def speak(self):\n",
        "        print(\"Bark!\")\n",
        "\n",
        "\n",
        "generic_animal = Animal()\n",
        "generic_animal.speak()\n",
        "\n",
        "dog = Dog()\n",
        "dog.speak()\n"
      ],
      "metadata": {
        "colab": {
          "base_uri": "https://localhost:8080/"
        },
        "id": "qD0VDfH7Zp-e",
        "outputId": "d3321e1b-3914-4458-ba36-d28ffec7ad41"
      },
      "id": "qD0VDfH7Zp-e",
      "execution_count": 1,
      "outputs": [
        {
          "output_type": "stream",
          "name": "stdout",
          "text": [
            "This animal makes a sound.\n",
            "Bark!\n"
          ]
        }
      ]
    },
    {
      "cell_type": "markdown",
      "source": [
        " 2. Write a program to create an abstract class Shape with a method area(). Derive classes Circle and Rectangle\n",
        "from it and implement the area() method in both."
      ],
      "metadata": {
        "id": "X8k1UVbFZ5Lc"
      },
      "id": "X8k1UVbFZ5Lc"
    },
    {
      "cell_type": "code",
      "source": [
        "from abc import ABC, abstractmethod\n",
        "import math\n",
        "\n",
        "class Shape(ABC):\n",
        "    @abstractmethod\n",
        "    def area(self):\n",
        "        pass\n",
        "\n",
        "class Circle(Shape):\n",
        "    def __init__(self, radius):\n",
        "        self.radius = radius\n",
        "\n",
        "    def area(self):\n",
        "        return math.pi * self.radius ** 2\n",
        "\n",
        "class Rectangle(Shape):\n",
        "    def __init__(self, length, width):\n",
        "        self.length = length\n",
        "        self.width = width\n",
        "\n",
        "    def area(self):\n",
        "        return self.length * self.width\n",
        "\n",
        "\n",
        "circle = Circle(5)\n",
        "rectangle = Rectangle(4, 6)\n",
        "\n",
        "# Printing areas\n",
        "print(f\"Circle Area: {circle.area():.2f}\")\n",
        "print(f\"Rectangle Area: {rectangle.area()}\")\n"
      ],
      "metadata": {
        "colab": {
          "base_uri": "https://localhost:8080/"
        },
        "id": "5F-cixLZZy2f",
        "outputId": "e2f93882-6365-4a7b-a1d5-cea6e8ed389c"
      },
      "id": "5F-cixLZZy2f",
      "execution_count": 2,
      "outputs": [
        {
          "output_type": "stream",
          "name": "stdout",
          "text": [
            "Circle Area: 78.54\n",
            "Rectangle Area: 24\n"
          ]
        }
      ]
    },
    {
      "cell_type": "markdown",
      "source": [
        "3. Implement a multi-level inheritance scenario where a class Vehicle has an attribute type. Derive a class Car\n",
        "and further derive a class ElectricCar that adds a battery attribute."
      ],
      "metadata": {
        "id": "70-UX8_GaGVH"
      },
      "id": "70-UX8_GaGVH"
    },
    {
      "cell_type": "code",
      "source": [
        "class Vehicle:\n",
        "    def __init__(self, type): self.type = type\n",
        "\n",
        "class Car(Vehicle):\n",
        "    def __init__(self, type, brand): super().__init__(type); self.brand = brand\n",
        "\n",
        "class ElectricCar(Car):\n",
        "    def __init__(self, type, brand, battery): super().__init__(type, brand); self.battery = battery\n",
        "    def details(self): return f\"{self.type} | {self.brand} | {self.battery} kWh\"\n",
        "\n",
        "print(ElectricCar(\"Electric\", \"Tesla\", 75).details())\n"
      ],
      "metadata": {
        "colab": {
          "base_uri": "https://localhost:8080/"
        },
        "id": "Nx4z8AdeaD27",
        "outputId": "917551c6-ab95-4c24-a5d4-01f50d0c390b"
      },
      "id": "Nx4z8AdeaD27",
      "execution_count": 3,
      "outputs": [
        {
          "output_type": "stream",
          "name": "stdout",
          "text": [
            "Electric | Tesla | 75 kWh\n"
          ]
        }
      ]
    },
    {
      "cell_type": "markdown",
      "source": [
        "4.Demonstrate polymorphism by creating a base class Bird with a method fly(). Create two derived classes\n",
        "Sparrow and Penguin that override the fly() method."
      ],
      "metadata": {
        "id": "tgQjo9N5aQkz"
      },
      "id": "tgQjo9N5aQkz"
    },
    {
      "cell_type": "code",
      "source": [
        "class Bird:\n",
        "    def fly(self):\n",
        "        print(\"Some birds can fly.\")\n",
        "\n",
        "class Sparrow(Bird):\n",
        "    def fly(self):\n",
        "        print(\"Sparrow flies high!\")\n",
        "\n",
        "class Penguin(Bird):\n",
        "    def fly(self):\n",
        "        print(\"Penguins cannot fly.\")\n",
        "\n",
        "\n",
        "for bird in [Sparrow(), Penguin()]:\n",
        "    bird.fly()\n",
        "\n"
      ],
      "metadata": {
        "colab": {
          "base_uri": "https://localhost:8080/"
        },
        "id": "-PplWZWzaWs3",
        "outputId": "c8e012d4-540c-457c-cd41-6366fef4d271"
      },
      "id": "-PplWZWzaWs3",
      "execution_count": 4,
      "outputs": [
        {
          "output_type": "stream",
          "name": "stdout",
          "text": [
            "Sparrow flies high!\n",
            "Penguins cannot fly.\n"
          ]
        }
      ]
    },
    {
      "cell_type": "markdown",
      "source": [
        "5.Write a program to demonstrate encapsulation by creating a class BankAccount with private attributes\n",
        "balance and methods to deposit, withdraw, and check balance."
      ],
      "metadata": {
        "id": "D8L0eOD6abxu"
      },
      "id": "D8L0eOD6abxu"
    },
    {
      "cell_type": "code",
      "source": [
        "class BankAccount:\n",
        "    def __init__(self, balance=0):\n",
        "        self.__balance = balance  # Private attribute\n",
        "\n",
        "    def deposit(self, amount):\n",
        "        if amount > 0:\n",
        "            self.__balance += amount\n",
        "            print(f\"Deposited: {amount}\")\n",
        "        else:\n",
        "            print(\"Invalid deposit amount!\")\n",
        "\n",
        "    def withdraw(self, amount):\n",
        "        if 0 < amount <= self.__balance:\n",
        "            self.__balance -= amount\n",
        "            print(f\"Withdrawn: {amount}\")\n",
        "        else:\n",
        "            print(\"Insufficient balance or invalid amount!\")\n",
        "\n",
        "    def check_balance(self):\n",
        "        print(f\"Balance: {self.__balance}\")\n",
        "\n",
        "account = BankAccount(100)\n",
        "account.deposit(50)\n",
        "account.withdraw(30)\n",
        "account.check_balance()\n",
        "\n"
      ],
      "metadata": {
        "colab": {
          "base_uri": "https://localhost:8080/"
        },
        "id": "G41BdSVfaazU",
        "outputId": "b6eefbe4-fdac-4228-f955-3f0bccff0e96"
      },
      "id": "G41BdSVfaazU",
      "execution_count": 5,
      "outputs": [
        {
          "output_type": "stream",
          "name": "stdout",
          "text": [
            "Deposited: 50\n",
            "Withdrawn: 30\n",
            "Balance: 120\n"
          ]
        }
      ]
    },
    {
      "cell_type": "markdown",
      "source": [
        " 6.Demonstrate runtime polymorphism using a method play() in a base class Instrument. Derive classes Guitar\n",
        "and Piano that implement their own version of play()."
      ],
      "metadata": {
        "id": "ZtTAcR92bDke"
      },
      "id": "ZtTAcR92bDke"
    },
    {
      "cell_type": "code",
      "source": [
        "class Instrument:\n",
        "    def play(self):\n",
        "        print(\"Playing an instrument.\")\n",
        "\n",
        "class Guitar(Instrument):\n",
        "    def play(self):\n",
        "        print(\"Strumming the guitar!\")\n",
        "\n",
        "class Piano(Instrument):\n",
        "    def play(self):\n",
        "        print(\"Playing the piano!\")\n",
        "\n",
        "for instrument in [Guitar(), Piano()]:\n",
        "    instrument.play()\n",
        "\n"
      ],
      "metadata": {
        "colab": {
          "base_uri": "https://localhost:8080/"
        },
        "id": "K1esb1QrbB_K",
        "outputId": "56c24461-333e-4fbb-f505-e56628b256e1"
      },
      "id": "K1esb1QrbB_K",
      "execution_count": 6,
      "outputs": [
        {
          "output_type": "stream",
          "name": "stdout",
          "text": [
            "Strumming the guitar!\n",
            "Playing the piano!\n"
          ]
        }
      ]
    },
    {
      "cell_type": "markdown",
      "source": [
        "7.Create a class MathOperations with a class method add_numbers() to add two numbers and a static\n",
        "method subtract_numbers() to subtract two numbers."
      ],
      "metadata": {
        "id": "fHpMezhCbPdi"
      },
      "id": "fHpMezhCbPdi"
    },
    {
      "cell_type": "code",
      "source": [
        "class MathOperations:\n",
        "    @classmethod\n",
        "    def add_numbers(cls, a, b):\n",
        "        return a + b\n",
        "\n",
        "    @staticmethod\n",
        "    def subtract_numbers(a, b):\n",
        "        return a - b\n",
        "\n",
        "print(MathOperations.add_numbers(5, 3))\n",
        "print(MathOperations.subtract_numbers(10, 4))"
      ],
      "metadata": {
        "colab": {
          "base_uri": "https://localhost:8080/"
        },
        "id": "nq3KdKsHbOMG",
        "outputId": "91a9e082-288c-4848-d08c-ca7cc9c1f9a6"
      },
      "id": "nq3KdKsHbOMG",
      "execution_count": 7,
      "outputs": [
        {
          "output_type": "stream",
          "name": "stdout",
          "text": [
            "8\n",
            "6\n"
          ]
        }
      ]
    },
    {
      "cell_type": "markdown",
      "source": [
        " 8.Implement a class Person with a class method to count the total number of persons created."
      ],
      "metadata": {
        "id": "w1avywSTbac1"
      },
      "id": "w1avywSTbac1"
    },
    {
      "cell_type": "code",
      "source": [
        "class Person:\n",
        "    count = 0\n",
        "\n",
        "    def __init__(self, name):\n",
        "        self.name = name\n",
        "        Person.count += 1\n",
        "\n",
        "    @classmethod\n",
        "    def total_persons(cls):\n",
        "        return f\"Total persons created: {cls.count}\"\n",
        "\n",
        "p1 = Person(\"Alice\")\n",
        "p2 = Person(\"Bob\")\n",
        "p3 = Person(\"Charlie\")\n",
        "\n",
        "print(Person.total_persons())\n"
      ],
      "metadata": {
        "colab": {
          "base_uri": "https://localhost:8080/"
        },
        "id": "DiDPht-2bZcQ",
        "outputId": "9fe3f0ce-c258-4e67-a565-c7fe4581e020"
      },
      "id": "DiDPht-2bZcQ",
      "execution_count": 8,
      "outputs": [
        {
          "output_type": "stream",
          "name": "stdout",
          "text": [
            "Total persons created: 3\n"
          ]
        }
      ]
    },
    {
      "cell_type": "markdown",
      "source": [
        "9. Write a class Fraction with attributes numerator and denominator. Override the str method to display the\n",
        "fraction as \"numerator/denominator\"."
      ],
      "metadata": {
        "id": "CTFfARI9bsUo"
      },
      "id": "CTFfARI9bsUo"
    },
    {
      "cell_type": "code",
      "source": [
        "class Fraction:\n",
        "    def __init__(self, numerator, denominator):\n",
        "        self.numerator = numerator\n",
        "        self.denominator = denominator\n",
        "\n",
        "    def __str__(self):\n",
        "        return f\"{self.numerator}/{self.denominator}\"\n",
        "\n",
        "frac1 = Fraction(3, 4)\n",
        "frac2 = Fraction(5, 8)\n",
        "\n",
        "print(frac1)\n",
        "print(frac2)\n"
      ],
      "metadata": {
        "colab": {
          "base_uri": "https://localhost:8080/"
        },
        "id": "L6sjYSLmbopD",
        "outputId": "56595b2a-2629-41ce-8042-4bafee76c70a"
      },
      "id": "L6sjYSLmbopD",
      "execution_count": 9,
      "outputs": [
        {
          "output_type": "stream",
          "name": "stdout",
          "text": [
            "3/4\n",
            "5/8\n"
          ]
        }
      ]
    },
    {
      "cell_type": "markdown",
      "source": [
        " 10.Demonstrate operator overloading by creating a class Vector and overriding the add method to add two\n",
        "vectors."
      ],
      "metadata": {
        "id": "iHk5gKUncAeL"
      },
      "id": "iHk5gKUncAeL"
    },
    {
      "cell_type": "code",
      "source": [
        "class Vector:\n",
        "    def __init__(self, x, y):\n",
        "        self.x = x\n",
        "        self.y = y\n",
        "\n",
        "    def __add__(self, other):\n",
        "        return Vector(self.x + other.x, self.y + other.y)\n",
        "\n",
        "    def __str__(self):\n",
        "        return f\"({self.x}, {self.y})\"\n",
        "\n",
        "v1 = Vector(2, 3)\n",
        "v2 = Vector(4, 5)\n",
        "v3 = v1 + v2\n",
        "\n",
        "print(v3)"
      ],
      "metadata": {
        "colab": {
          "base_uri": "https://localhost:8080/"
        },
        "id": "_moNybp1b_py",
        "outputId": "c1226d09-fb21-44a9-a749-b6a54309626a"
      },
      "id": "_moNybp1b_py",
      "execution_count": 10,
      "outputs": [
        {
          "output_type": "stream",
          "name": "stdout",
          "text": [
            "(6, 8)\n"
          ]
        }
      ]
    },
    {
      "cell_type": "markdown",
      "source": [
        " 11.Create a class Person with attributes name and age. Add a method greet() that prints \"Hello, my name is\n",
        "{name} and I am {age} years old.\""
      ],
      "metadata": {
        "id": "j5zTN-9tcOaH"
      },
      "id": "j5zTN-9tcOaH"
    },
    {
      "cell_type": "code",
      "source": [
        "class Person:\n",
        "    def __init__(self, name, age):\n",
        "        self.name = name\n",
        "        self.age = age\n",
        "\n",
        "    def greet(self):\n",
        "        print(f\"Hello, my name is {self.name} and I am {self.age} years old.\")\n",
        "\n",
        "p1 = Person(\"Alice\", 25)\n",
        "p1.greet()\n",
        "\n"
      ],
      "metadata": {
        "colab": {
          "base_uri": "https://localhost:8080/"
        },
        "id": "CG83NSFocNPj",
        "outputId": "b3e1aa9c-cbb6-42b8-aae3-30dfc86821ec"
      },
      "id": "CG83NSFocNPj",
      "execution_count": 11,
      "outputs": [
        {
          "output_type": "stream",
          "name": "stdout",
          "text": [
            "Hello, my name is Alice and I am 25 years old.\n"
          ]
        }
      ]
    },
    {
      "cell_type": "markdown",
      "source": [
        " 12.Implement a class Student with attributes name and grades. Create a method average_grade() to compute\n",
        "the average of the grades"
      ],
      "metadata": {
        "id": "AuwQhdExcqsN"
      },
      "id": "AuwQhdExcqsN"
    },
    {
      "cell_type": "code",
      "source": [
        "class Student:\n",
        "    def __init__(self, name, grades):\n",
        "        self.name = name\n",
        "        self.grades = grades\n",
        "\n",
        "    def average_grade(self):\n",
        "        return sum(self.grades) / len(self.grades) if self.grades else 0\n",
        "\n",
        "s1 = Student(\"Alice\", [85, 90, 78, 92])\n",
        "print(f\"{s1.name}'s Average Grade: {s1.average_grade():.2f}\")\n",
        "\n"
      ],
      "metadata": {
        "colab": {
          "base_uri": "https://localhost:8080/"
        },
        "id": "m6rb4emgcl41",
        "outputId": "50689f8b-968c-4308-830e-5474ed94d226"
      },
      "id": "m6rb4emgcl41",
      "execution_count": 12,
      "outputs": [
        {
          "output_type": "stream",
          "name": "stdout",
          "text": [
            "Alice's Average Grade: 86.25\n"
          ]
        }
      ]
    },
    {
      "cell_type": "markdown",
      "source": [
        " 13.Create a class Rectangle with methods set_dimensions() to set the dimensions and area() to calculate the\n",
        "area."
      ],
      "metadata": {
        "id": "6G3CJoOCc12g"
      },
      "id": "6G3CJoOCc12g"
    },
    {
      "cell_type": "code",
      "source": [
        "class Rectangle:\n",
        "    def __init__(self):\n",
        "        self.length = 0\n",
        "        self.width = 0\n",
        "\n",
        "    def set_dimensions(self, length, width):\n",
        "        self.length = length\n",
        "        self.width = width\n",
        "\n",
        "    def area(self):\n",
        "        return self.length * self.width\n",
        "\n",
        "rect = Rectangle()\n",
        "rect.set_dimensions(5, 3)\n",
        "print(f\"Area of rectangle: {rect.area()}\")\n"
      ],
      "metadata": {
        "colab": {
          "base_uri": "https://localhost:8080/"
        },
        "id": "pfLHX6s8cz6e",
        "outputId": "ed04b1e6-5407-4809-ceec-a3b4fe7a03bf"
      },
      "id": "pfLHX6s8cz6e",
      "execution_count": 13,
      "outputs": [
        {
          "output_type": "stream",
          "name": "stdout",
          "text": [
            "Area of rectangle: 15\n"
          ]
        }
      ]
    },
    {
      "cell_type": "markdown",
      "source": [
        " 14. Create a class Employee with a method calculate_salary() that computes the salary based on hours worked\n",
        "and hourly rate. Create a derived class Manager that adds a bonus to the salary"
      ],
      "metadata": {
        "id": "I0MYWxuddUPP"
      },
      "id": "I0MYWxuddUPP"
    },
    {
      "cell_type": "code",
      "source": [
        "class Employee:\n",
        "    def __init__(self, name, hours_worked, hourly_rate):\n",
        "        self.name = name\n",
        "        self.hours_worked = hours_worked\n",
        "        self.hourly_rate = hourly_rate\n",
        "\n",
        "    def calculate_salary(self):\n",
        "        return self.hours_worked * self.hourly_rate\n",
        "\n",
        "class Manager(Employee):\n",
        "    def __init__(self, name, hours_worked, hourly_rate, bonus):\n",
        "        super().__init__(name, hours_worked, hourly_rate)\n",
        "        self.bonus = bonus\n",
        "\n",
        "    def calculate_salary(self):\n",
        "        return super().calculate_salary() + self.bonus\n",
        "\n",
        "\n",
        "emp = Employee(\"Alice\", 40, 20)\n",
        "mgr = Manager(\"Bob\", 40, 30, 500)\n",
        "\n",
        "print(f\"{emp.name}'s Salary: ${emp.calculate_salary()}\")\n",
        "print(f\"{mgr.name}'s Salary: ${mgr.calculate_salary()}\")\n"
      ],
      "metadata": {
        "colab": {
          "base_uri": "https://localhost:8080/"
        },
        "id": "lzrbTanndFwI",
        "outputId": "960ad3f9-8890-419f-a8ae-c08abfadb4a7"
      },
      "id": "lzrbTanndFwI",
      "execution_count": 14,
      "outputs": [
        {
          "output_type": "stream",
          "name": "stdout",
          "text": [
            "Alice's Salary: $800\n",
            "Bob's Salary: $1700\n"
          ]
        }
      ]
    },
    {
      "cell_type": "markdown",
      "source": [
        "15.Create a class Product with attributes name, price, and quantity. Implement a method total_price() that\n",
        "calculates the total price of the product."
      ],
      "metadata": {
        "id": "-BzvvqUhddBs"
      },
      "id": "-BzvvqUhddBs"
    },
    {
      "cell_type": "code",
      "source": [
        "class Product:\n",
        "    def __init__(self, name, price, quantity):\n",
        "        self.name = name\n",
        "        self.price = price\n",
        "        self.quantity = quantity\n",
        "\n",
        "    def total_price(self):\n",
        "        return self.price * self.quantity\n",
        "\n",
        "product = Product(\"Laptop\", 50000, 2)\n",
        "print(f\"Total price of {product.name}: ₹{product.total_price()}\")\n",
        "\n"
      ],
      "metadata": {
        "colab": {
          "base_uri": "https://localhost:8080/"
        },
        "id": "6V4uSNI8dZUw",
        "outputId": "51e30897-e609-4ebb-c518-25dcb4a24feb"
      },
      "id": "6V4uSNI8dZUw",
      "execution_count": 15,
      "outputs": [
        {
          "output_type": "stream",
          "name": "stdout",
          "text": [
            "Total price of Laptop: ₹100000\n"
          ]
        }
      ]
    },
    {
      "cell_type": "markdown",
      "source": [
        " 16.Create a class Animal with an abstract method sound(). Create two derived classes Cow and Sheep that\n",
        "implement the sound() method."
      ],
      "metadata": {
        "id": "mWd0tbYad6MO"
      },
      "id": "mWd0tbYad6MO"
    },
    {
      "cell_type": "code",
      "source": [
        "from abc import ABC, abstractmethod\n",
        "\n",
        "class Animal(ABC):\n",
        "    @abstractmethod\n",
        "    def sound(self):\n",
        "        pass\n",
        "\n",
        "class Cow(Animal):\n",
        "    def sound(self):\n",
        "        return \"Moo!\"\n",
        "\n",
        "class Sheep(Animal):\n",
        "    def sound(self):\n",
        "        return \"Baa!\"\n",
        "\n",
        "cow = Cow()\n",
        "sheep = Sheep()\n",
        "\n",
        "print(cow.sound())\n",
        "print(sheep.sound())\n"
      ],
      "metadata": {
        "colab": {
          "base_uri": "https://localhost:8080/"
        },
        "id": "yWXsiHicdrI5",
        "outputId": "6e522fff-dd38-4a60-a98d-c9f71314f73c"
      },
      "id": "yWXsiHicdrI5",
      "execution_count": 16,
      "outputs": [
        {
          "output_type": "stream",
          "name": "stdout",
          "text": [
            "Moo!\n",
            "Baa!\n"
          ]
        }
      ]
    },
    {
      "cell_type": "markdown",
      "source": [
        "17.Create a class Book with attributes title, author, and year_published. Add a method get_book_info() that\n",
        "returns a formatted string with the book's details."
      ],
      "metadata": {
        "id": "3Y24imO-ejyi"
      },
      "id": "3Y24imO-ejyi"
    },
    {
      "cell_type": "code",
      "source": [
        "class Book:\n",
        "    def __init__(self, title, author, year_published):\n",
        "        self.title = title\n",
        "        self.author = author\n",
        "        self.year_published = year_published\n",
        "\n",
        "    def get_book_info(self):\n",
        "        return f\"'{self.title}' by {self.author}, published in {self.year_published}.\"\n",
        "\n",
        "\n",
        "book = Book(\"The Alchemist\", \"Paulo Coelho\", 1988)\n",
        "print(book.get_book_info())\n",
        "\n"
      ],
      "metadata": {
        "colab": {
          "base_uri": "https://localhost:8080/"
        },
        "id": "9xNcM43BedJO",
        "outputId": "b6577955-3418-4d7c-edf8-d07524777fbe"
      },
      "id": "9xNcM43BedJO",
      "execution_count": 17,
      "outputs": [
        {
          "output_type": "stream",
          "name": "stdout",
          "text": [
            "'The Alchemist' by Paulo Coelho, published in 1988.\n"
          ]
        }
      ]
    },
    {
      "cell_type": "markdown",
      "source": [
        " 18.Create a class House with attributes address and price. Create a derived class Mansion that adds an\n",
        "attribute number_of_rooms."
      ],
      "metadata": {
        "id": "UyWNfd4Aevy_"
      },
      "id": "UyWNfd4Aevy_"
    },
    {
      "cell_type": "code",
      "source": [
        "class House:\n",
        "    def __init__(self, address, price):\n",
        "        self.address = address\n",
        "        self.price = price\n",
        "\n",
        "    def get_details(self):\n",
        "        return f\"Address: {self.address}, Price: ₹{self.price}\"\n",
        "\n",
        "class Mansion(House):\n",
        "    def __init__(self, address, price, number_of_rooms):\n",
        "        super().__init__(address, price)\n",
        "        self.number_of_rooms = number_of_rooms\n",
        "\n",
        "    def get_details(self):\n",
        "        return f\"{super().get_details()}, Rooms: {self.number_of_rooms}\"\n",
        "\n",
        "house = House(\"123 Street, City\", 5000000)\n",
        "mansion = Mansion(\"456 Avenue, City\", 20000000, 10)\n",
        "\n",
        "print(house.get_details())\n",
        "print(mansion.get_details())\n"
      ],
      "metadata": {
        "colab": {
          "base_uri": "https://localhost:8080/"
        },
        "id": "oAL6aZk3eusT",
        "outputId": "510f04d3-1642-4f1f-b044-f8eb741721dc"
      },
      "id": "oAL6aZk3eusT",
      "execution_count": 18,
      "outputs": [
        {
          "output_type": "stream",
          "name": "stdout",
          "text": [
            "Address: 123 Street, City, Price: ₹5000000\n",
            "Address: 456 Avenue, City, Price: ₹20000000, Rooms: 10\n"
          ]
        }
      ]
    },
    {
      "cell_type": "code",
      "source": [],
      "metadata": {
        "id": "M1OWe3OYe_vj"
      },
      "id": "M1OWe3OYe_vj",
      "execution_count": null,
      "outputs": []
    }
  ],
  "metadata": {
    "colab": {
      "provenance": []
    },
    "language_info": {
      "name": "python"
    },
    "kernelspec": {
      "name": "python3",
      "display_name": "Python 3"
    }
  },
  "nbformat": 4,
  "nbformat_minor": 5
}